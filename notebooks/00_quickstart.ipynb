{
  "cells": [
    {
      "cell_type": "markdown",
      "metadata": {},
      "source": [
        "# Classroom Engagement Analysis - Quick Start\n",
        "\n",
        "This notebook demonstrates the end-to-end engagement analysis pipeline with synthetic sample data.\n"
      ]
    }
  ],
  "metadata": {
    "language_info": {
      "name": "python"
    }
  },
  "nbformat": 4,
  "nbformat_minor": 2
}
